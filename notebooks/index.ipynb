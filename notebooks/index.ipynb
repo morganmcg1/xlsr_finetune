{
 "cells": [
  {
   "cell_type": "markdown",
   "metadata": {},
   "source": [
    "# XLSR Finetune\n",
    "\n",
    "> A bunch of handy functions to make fine-tuning the XLSR-Wav2Vec2 speech recognition model much easier"
   ]
  },
  {
   "cell_type": "markdown",
   "metadata": {},
   "source": [
    "Much of the code in this project is taken from Patrick Von Platen's brilliant Hugging Face [blog post here](https://huggingface.co/blog/fine-tune-xlsr-wav2vec2), 💯 thanks to the team!\n",
    "\n",
    "(Work in Progress)\n",
    "\n",
    "## Quickly Explore Your Audio Dataset\n",
    "\n",
    "With a couple of lines you can upload some of all of your dataset to quickly explore your dataset. You can play the audio as well as sort and group columns\n",
    "\n",
    "\n",
    "```\n",
    "!pip install git+https://github.com/morganmcg1/xlsr_finetune.git\n",
    "\n",
    "import wandb\n",
    "from xlsr.wandbutils import *\n",
    "\n",
    "wandb.login\n",
    "\n",
    "explore = WandbDataExplorer(ds=test_ds, n_samples=100, \n",
    "                            artifact_name = 'my_new_artifact', artifact_type='audio_dataset',\n",
    "                            table_name='explore_samples', wandb_project = 'xlsr',\n",
    "                            cols_to_exclude=['client_id','segment'])\n",
    "                            \n",
    "explore.log()\n",
    "```\n",
    "\n",
    "The code above will generate this:"
   ]
  },
  {
   "cell_type": "markdown",
   "metadata": {},
   "source": [
    "![images/artifact_audio.png](images/artifacts_audio.png)"
   ]
  },
  {
   "cell_type": "markdown",
   "metadata": {},
   "source": [
    "## Demo Training Demo\n",
    "\n",
    "`xlsr_finetune/notebooks/_train_demo.ipynb`\n",
    "\n",
    "This repo also includes an end-to-end training demo, based on the [Hugging Face ASR blog](https://huggingface.co/blog/fine-tune-xlsr-wav2vec2), including showing how to filter your data, and save it to and download from Weigths & Biases Artifacts "
   ]
  },
  {
   "cell_type": "markdown",
   "metadata": {},
   "source": [
    "## Install"
   ]
  },
  {
   "cell_type": "markdown",
   "metadata": {},
   "source": [
    "```\n",
    "git clone https://github.com/morganmcg1/xlsr_finetune.git\n",
    "\n",
    "cd xlsr_finetune\n",
    "\n",
    "pip install -e .\n",
    "\n",
    "```\n",
    "\n",
    "or you can run the below directly from a notebook\n",
    "\n",
    "```\n",
    "pip install git+https://github.com/morganmcg1/xlsr_finetune.git\n",
    "```"
   ]
  },
  {
   "cell_type": "markdown",
   "metadata": {},
   "source": [
    "## Contributing"
   ]
  },
  {
   "cell_type": "markdown",
   "metadata": {},
   "source": [
    "To contribute, make sure you have the latest version of nbdev installed and check out the CONTRIBUTING.md file"
   ]
  }
 ],
 "metadata": {
  "kernelspec": {
   "display_name": "Python 3",
   "language": "python",
   "name": "python3"
  }
 },
 "nbformat": 4,
 "nbformat_minor": 4
}
